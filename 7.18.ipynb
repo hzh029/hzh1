{
 "cells": [
  {
   "cell_type": "markdown",
   "metadata": {},
   "source": [
    "# 选择\n",
    "## 布尔类型、数值和表达式\n",
    "![](../Photo/33.png)\n",
    "- 注意：比较运算符的相等是两个等到，一个等到代表赋值\n",
    "- 在Python中可以用整型0来代表False，其他数字来代表True\n",
    "- 后面还会讲到 is 在判断语句中的用发"
   ]
  },
  {
   "cell_type": "markdown",
   "metadata": {},
   "source": [
    "## EP:\n",
    "- <img src=\"../Photo/34.png\"></img>\n",
    "- 输入一个数字，判断其实奇数还是偶数"
   ]
  },
  {
   "cell_type": "code",
   "execution_count": 3,
   "metadata": {},
   "outputs": [
    {
     "name": "stdout",
     "output_type": "stream",
     "text": [
      "1\n"
     ]
    }
   ],
   "source": [
    "i=int(True)\n",
    "print(i)"
   ]
  },
  {
   "cell_type": "code",
   "execution_count": 4,
   "metadata": {},
   "outputs": [
    {
     "name": "stdout",
     "output_type": "stream",
     "text": [
      "0\n"
     ]
    }
   ],
   "source": [
    "j=int(False)\n",
    "print(j)"
   ]
  },
  {
   "cell_type": "markdown",
   "metadata": {},
   "source": [
    "## 产生随机数字\n",
    "- 函数random.randint(a,b) 可以用来产生一个a和b之间且包括a和b的随机整数"
   ]
  },
  {
   "cell_type": "markdown",
   "metadata": {},
   "source": [
    "## EP：\n",
    "- 产生两个随机整数number1和number2，然后显示给用户，使用户输入数字，并判定其是否正确\n",
    "- 进阶:写一个随机序号点名程序"
   ]
  },
  {
   "cell_type": "markdown",
   "metadata": {},
   "source": [
    "##  其他random方法\n",
    "- random.random 返回0.0到1.0之间前闭后开区间的随机浮点\n",
    "- random.randrange(a,b) 前闭后开"
   ]
  },
  {
   "cell_type": "markdown",
   "metadata": {},
   "source": [
    "## if语句\n",
    "- 如果条件正确就执行一个单向if语句，亦即当条件为真的时候才执行if内部的语句\n",
    "- Python有很多选择语句:\n",
    "> - 单向if \n",
    "  - 双向if-else\n",
    "  - 嵌套if\n",
    "  - 多向if-elif-else\n",
    "  \n",
    "- 注意：当语句含有子语句的时候，那么一定至少要有一个缩进，也就是说如果有儿子存在，那么一定要缩进\n",
    "- 切记不可table键和space混用，单用table 或者 space\n",
    "- 当你输出的结果是无论if是否为真时都需要显示时，语句应该与if对齐"
   ]
  },
  {
   "cell_type": "markdown",
   "metadata": {},
   "source": [
    "## EP：\n",
    "- 用户输入一个数字，判断其实奇数还是偶数\n",
    "- 进阶：可以查看下4.5实例研究猜生日"
   ]
  },
  {
   "cell_type": "markdown",
   "metadata": {},
   "source": [
    "## 双向if-else 语句\n",
    "- 如果条件为真，那么走if内部语句，否则走else内部语句"
   ]
  },
  {
   "cell_type": "markdown",
   "metadata": {},
   "source": [
    "## EP：\n",
    "- 产生两个随机整数number1和number2，然后显示给用户，使用户输入数字，并判定其是否正确,如果正确打印“you‘re correct”，否则打印正确答案"
   ]
  },
  {
   "cell_type": "markdown",
   "metadata": {},
   "source": [
    "## 嵌套if 和多向if-elif-else\n",
    "![](../Photo/35.png)"
   ]
  },
  {
   "cell_type": "markdown",
   "metadata": {},
   "source": [
    "## EP：\n",
    "- 提示用户输入一个年份，然后显示表示这一年的动物\n",
    "![](../Photo/36.png)\n",
    "- 计算身体质量指数的程序\n",
    "- BMI = 以千克为单位的体重除以以米为单位的身高\n",
    "![](../Photo/37.png)"
   ]
  },
  {
   "cell_type": "code",
   "execution_count": 10,
   "metadata": {},
   "outputs": [
    {
     "name": "stdout",
     "output_type": "stream",
     "text": [
      "请输入年份:2015\n",
      "2015年是羊年\n",
      "\n"
     ]
    }
   ],
   "source": [
    "year=eval(input(\"请输入年份:\"))\n",
    "if year%12==0:\n",
    "    print(\"%d年是猴年\\n\"%year)\n",
    "elif year%12==1:\n",
    "    print(\"%d年是鸡年\\n\"%year)\n",
    "elif year%12==2:\n",
    "    print(\"%d年是狗年\\n\"%year)\n",
    "elif year%12==3:\n",
    "    print(\"%d年是猪年\\n\"%year)\n",
    "elif year%12==4:\n",
    "    print(\"%d年是鼠年\\n\"%year)\n",
    "elif year%12==5:\n",
    "    print(\"%d年是牛年\\n\"%year)\n",
    "elif year%12==6:\n",
    "    print(\"%d年是虎年\\n\"%year)\n",
    "elif year%12==7:\n",
    "    print(\"%d年是兔年\\n\"%year)\n",
    "elif year%12==8:\n",
    "    print(\"%d年是龙年\\n\"%year)\n",
    "elif year%12==9:\n",
    "    print(\"%d年是蛇年\\n\"%year)\n",
    "elif year%12==10:\n",
    "    print(\"%d年是马年\\n\"%year)\n",
    "else:\n",
    "    print(\"%d年是羊年\\n\"%year)\n"
   ]
  },
  {
   "cell_type": "markdown",
   "metadata": {},
   "source": [
    "## 逻辑运算符\n",
    "![](../Photo/38.png)"
   ]
  },
  {
   "cell_type": "markdown",
   "metadata": {},
   "source": [
    "![](../Photo/39.png)\n",
    "![](../Photo/40.png)"
   ]
  },
  {
   "cell_type": "markdown",
   "metadata": {},
   "source": [
    "## EP：\n",
    "- 判定闰年：一个年份如果能被4整除但不能被100整除，或者能被400整除，那么这个年份就是闰年\n",
    "- 提示用户输入一个年份，并返回是否是闰年\n",
    "- 提示用户输入一个数字，判断其是否为水仙花数"
   ]
  },
  {
   "cell_type": "markdown",
   "metadata": {},
   "source": [
    "## 实例研究：彩票\n",
    "![](../Photo/41.png)"
   ]
  },
  {
   "cell_type": "markdown",
   "metadata": {},
   "source": [
    "# Homework\n",
    "- 1\n",
    "![](../Photo/42.png)"
   ]
  },
  {
   "cell_type": "code",
   "execution_count": 7,
   "metadata": {},
   "outputs": [
    {
     "name": "stdout",
     "output_type": "stream",
     "text": [
      "Enter a:1\n",
      "Enter b:2\n",
      "Enter c:3\n",
      "The equation has no real roots!\n"
     ]
    }
   ],
   "source": [
    "import math\n",
    "a=eval(input(\"Enter a:\"))\n",
    "b=eval(input(\"Enter b:\"))\n",
    "c=eval(input(\"Enter c:\"))\n",
    "det=pow(b,2)*b-4*a*c\n",
    "if det>0:\n",
    "    r1=(-b+math.sqrt(det))/2*a\n",
    "    r2=(-b-math.sqrt(det))/2*a\n",
    "    print(\"The roots are %f and %f\\n\"%(r1,r2))\n",
    "elif det==0:\n",
    "    r=(-b+math.sqrt(det))/2*a\n",
    "    print(\"The roots is %f\\n\"%r)\n",
    "else:\n",
    "    print(\"The equation has no real roots!\")\n",
    "\n"
   ]
  },
  {
   "cell_type": "markdown",
   "metadata": {},
   "source": [
    "- 2\n",
    "![](../Photo/43.png)"
   ]
  },
  {
   "cell_type": "code",
   "execution_count": 8,
   "metadata": {},
   "outputs": [
    {
     "name": "stdout",
     "output_type": "stream",
     "text": [
      "请输入两个随机数24，94的和\n",
      "118\n",
      "答案正确\n"
     ]
    }
   ],
   "source": [
    "import random\n",
    "a=random.randint(0,100)\n",
    "b=random.randint(0,100)\n",
    "sun=a+b\n",
    "sum_input=eval(input(\"请输入两个随机数%d，%d的和\\n\"%(a,b)))\n",
    "if sun==sum_input:\n",
    "    print(\"答案正确\")\n",
    "else:\n",
    "    print(\"答案错误\")"
   ]
  },
  {
   "cell_type": "markdown",
   "metadata": {},
   "source": [
    "- 3\n",
    "![](../Photo/44.png)"
   ]
  },
  {
   "cell_type": "code",
   "execution_count": 47,
   "metadata": {},
   "outputs": [
    {
     "name": "stdout",
     "output_type": "stream",
     "text": [
      "Enter taday's day:1\n",
      "Enter the number of days elapsed since today:3\n"
     ]
    }
   ],
   "source": [
    "num=eval(input(\"Enter taday's day:\"))\n",
    "day_num=eval(input(\"Enter the number of days elapsed since today:\"))\n",
    "s=(num+day_num)%7\n",
    "\n"
   ]
  },
  {
   "cell_type": "markdown",
   "metadata": {},
   "source": [
    "- 4\n",
    "![](../Photo/45.png)"
   ]
  },
  {
   "cell_type": "code",
   "execution_count": 20,
   "metadata": {},
   "outputs": [
    {
     "name": "stdout",
     "output_type": "stream",
     "text": [
      "请输入第一个数:6\n",
      "请输入第二个数:2\n",
      "请输入第三个数:8\n",
      "原始排序为：\n",
      "6 2 8\n",
      "升序排序为:\n",
      "2 6 8\n"
     ]
    }
   ],
   "source": [
    "a=eval(input(\"请输入第一个数:\"))\n",
    "b=eval(input(\"请输入第二个数:\"))\n",
    "c=eval(input(\"请输入第三个数:\"))\n",
    "print(\"原始排序为：\")\n",
    "print(a,b,c)\n",
    "if a>b:\n",
    "    t=a\n",
    "    a=b\n",
    "    b=t\n",
    "elif a>c:\n",
    "    t=a\n",
    "    a=c\n",
    "    c=t \n",
    "print(\"升序排序为:\")\n",
    "print(a,b,c)"
   ]
  },
  {
   "cell_type": "markdown",
   "metadata": {},
   "source": [
    "- 5\n",
    "![](../Photo/46.png)"
   ]
  },
  {
   "cell_type": "code",
   "execution_count": 22,
   "metadata": {},
   "outputs": [
    {
     "name": "stdout",
     "output_type": "stream",
     "text": [
      "Please enter Package 1 weight:50\n",
      "Please enter Package 1 price:24.59\n",
      "Please enter Package 2 weight:25\n",
      "Please enter Package 2 price:11.99\n",
      "Package 2 has the better price.\n"
     ]
    }
   ],
   "source": [
    "w1=eval(input(\"Please enter Package 1 weight:\"))\n",
    "p1=eval(input(\"Please enter Package 1 price:\"))\n",
    "w2=eval(input(\"Please enter Package 2 weight:\"))\n",
    "p2=eval(input(\"Please enter Package 2 price:\"))\n",
    "wp1=p1/w1\n",
    "wp2=p2/w2\n",
    "if wp1>wp2:\n",
    "    print(\"Package 2 has the better price.\")\n",
    "else:\n",
    "     print(\"Package 1 has the better price.\")\n"
   ]
  },
  {
   "cell_type": "markdown",
   "metadata": {},
   "source": [
    "- 6\n",
    "![](../Photo/47.png)"
   ]
  },
  {
   "cell_type": "code",
   "execution_count": null,
   "metadata": {},
   "outputs": [],
   "source": []
  },
  {
   "cell_type": "markdown",
   "metadata": {},
   "source": [
    "- 7\n",
    "![](../Photo/48.png)"
   ]
  },
  {
   "cell_type": "code",
   "execution_count": 44,
   "metadata": {},
   "outputs": [
    {
     "name": "stdout",
     "output_type": "stream",
     "text": [
      "Please guess[Front(0)   Back(1)]:1\n",
      "0\n",
      "Guess Wrong!\n",
      "\n"
     ]
    }
   ],
   "source": [
    "import random\n",
    "user=int(input(\"Please guess[Front(0)   Back(1)]:\"))\n",
    "coin=random.randint(0,1)\n",
    "print(coin)\n",
    "if (user==0 and coin==0) or (user==1 and coin==1):\n",
    "    print(\"Guess Right!\\n\")\n",
    "if (user==0 and coin==1) or (user==1 and coin==0):\n",
    "    print(\"Guess Wrong!\\n\")    "
   ]
  },
  {
   "cell_type": "markdown",
   "metadata": {},
   "source": [
    "- 8\n",
    "![](../Photo/49.png)"
   ]
  },
  {
   "cell_type": "code",
   "execution_count": 39,
   "metadata": {},
   "outputs": [
    {
     "name": "stdout",
     "output_type": "stream",
     "text": [
      "Please input[scissor(0) rock(1) paper(2)]:2\n",
      "1\n",
      "You won.\n",
      "\n"
     ]
    }
   ],
   "source": [
    "import random\n",
    "person=int(input(\"Please input[scissor(0) rock(1) paper(2)]:\"))\n",
    "computer=random.randint(0, 2)\n",
    "print(computer)\n",
    "if(person==0 and computer==2) or (person==1 and computer==0) or (person==2 and computer== 1):\n",
    "    print(\"You won.\\n\")\n",
    "elif(person==0 and computer==0) or (person==1 and computer==1) or (person==2 and computer== 2):\n",
    "    print(\"It is a draw.\\n\")\n",
    "else:\n",
    "    print(\"You lose.\\n\")"
   ]
  },
  {
   "cell_type": "markdown",
   "metadata": {},
   "source": [
    "- 9\n",
    "![](../Photo/50.png)"
   ]
  },
  {
   "cell_type": "markdown",
   "metadata": {},
   "source": [
    "- 10\n",
    "![](../Photo/51.png)"
   ]
  },
  {
   "cell_type": "code",
   "execution_count": null,
   "metadata": {},
   "outputs": [],
   "source": []
  },
  {
   "cell_type": "markdown",
   "metadata": {},
   "source": [
    "- 11\n",
    "![](../Photo/52.png)"
   ]
  },
  {
   "cell_type": "code",
   "execution_count": 31,
   "metadata": {},
   "outputs": [
    {
     "name": "stdout",
     "output_type": "stream",
     "text": [
      "Enter a three-digit integer :121\n",
      "121 is a palindrome.\n",
      "\n"
     ]
    }
   ],
   "source": [
    "x=eval(input(\"Enter a three-digit integer :\"))\n",
    "a=x//100\n",
    "b=x%100//10\n",
    "c=x%100%10\n",
    "if a==c:\n",
    "    print(\"%d is a palindrome.\\n\"%x)\n",
    "else:\n",
    "    print(\"%d is not a palindrome.\\n\"%x)\n",
    "    "
   ]
  },
  {
   "cell_type": "markdown",
   "metadata": {},
   "source": [
    "- 12\n",
    "![](../Photo/53.png)"
   ]
  },
  {
   "cell_type": "code",
   "execution_count": 27,
   "metadata": {},
   "outputs": [
    {
     "name": "stdout",
     "output_type": "stream",
     "text": [
      "a=3\n",
      "b=4\n",
      "c=5\n",
      "The perimeter:12.0\n"
     ]
    }
   ],
   "source": [
    "import math\n",
    "a=float(input(\"a=\"))\n",
    "b=float(input(\"b=\"))\n",
    "c=float(input(\"c=\"))\n",
    "if a+b>c and a+c>b and b+c>a:\n",
    "    p=a+b+c\n",
    "    print(\"The perimeter:\"+str(p))\n",
    "else:\n",
    "    print(\"Input number is wrong.Not make a triangle!\")"
   ]
  }
 ],
 "metadata": {
  "kernelspec": {
   "display_name": "Python 3",
   "language": "python",
   "name": "python3"
  },
  "language_info": {
   "codemirror_mode": {
    "name": "ipython",
    "version": 3
   },
   "file_extension": ".py",
   "mimetype": "text/x-python",
   "name": "python",
   "nbconvert_exporter": "python",
   "pygments_lexer": "ipython3",
   "version": "3.6.4"
  }
 },
 "nbformat": 4,
 "nbformat_minor": 2
}
